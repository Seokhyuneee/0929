{
  "nbformat": 4,
  "nbformat_minor": 0,
  "metadata": {
    "colab": {
      "provenance": []
    },
    "kernelspec": {
      "name": "python3",
      "display_name": "Python 3"
    },
    "language_info": {
      "name": "python"
    }
  },
  "cells": [
    {
      "cell_type": "code",
      "source": [
        "pip install langchain faiss-cpu beautifulsoup4 requests langchain-upstage"
      ],
      "metadata": {
        "id": "xfD6UYwsixqu"
      },
      "execution_count": null,
      "outputs": []
    },
    {
      "cell_type": "code",
      "source": [
        "import os\n",
        "import requests\n",
        "from bs4 import BeautifulSoup\n",
        "from langchain_upstage import UpstageEmbeddings\n",
        "from langchain.vectorstores import FAISS\n",
        "from langchain.text_splitter import CharacterTextSplitter\n",
        "from langchain_upstage import ChatUpstage\n",
        "from langchain.chains import RetrievalQA\n",
        "from langchain.chains.question_answering import load_qa_chain\n",
        "\n",
        "os.environ[\"UPSTAGE_API_KEY\"] = \"up_coecXafSJVG1v17EEZ3lxjFbZ8xcD\"\n",
        "\n",
        "def extract_text_from_url(urls):\n",
        "    all_texts = []\n",
        "\n",
        "    for url in urls:\n",
        "        try:\n",
        "            response = requests.get(url)\n",
        "            soup = BeautifulSoup(response.text, 'html.parser')\n",
        "\n",
        "            paragraphs = soup.find_all('p')\n",
        "            text = \"\\n\".join([para.get_text() for para in paragraphs])\n",
        "\n",
        "            all_texts.append(text)\n",
        "        except Exception as e:\n",
        "            print(f\"Error processing {url}: {e}\")\n",
        "\n",
        "    return all_texts\n",
        "\n",
        "now_number = 28225\n",
        "urls = []\n",
        "\n",
        "for number in range(now_number-30, now_number+1):\n",
        "  urls.append(\"https://cse.knu.ac.kr/bbs/board.php?bo_table=sub5_1&wr_id=\" + str(number))\n",
        "\n",
        "document_text = extract_text_from_url(urls)\n",
        "\n",
        "if isinstance(document_text, list):\n",
        "    texts = []\n",
        "    for doc in document_text:\n",
        "        if isinstance(doc, str):\n",
        "            texts.extend(text_splitter.split_text(doc))\n",
        "        else:\n",
        "            raise TypeError(\"Each document in the list must be a string\")\n",
        "else:\n",
        "    raise TypeError(\"document_text must be a list of strings\")\n",
        "\n",
        "embedding_model = UpstageEmbeddings(\n",
        "    model=\"solar-embedding-1-large\"\n",
        ")\n",
        "\n",
        "vectorstore = FAISS.from_texts(texts, embedding_model)\n",
        "\n",
        "upstage_llm = ChatUpstage(api_key=os.getenv(\"UPSTAGE_API_KEY\"))\n",
        "\n",
        "qa_chain = load_qa_chain(llm=upstage_llm, chain_type=\"stuff\")\n",
        "\n",
        "qa = RetrievalQA(combine_documents_chain=qa_chain, retriever=vectorstore.as_retriever())"
      ],
      "metadata": {
        "colab": {
          "base_uri": "https://localhost:8080/"
        },
        "id": "9pP7u4KU7fu2",
        "outputId": "e85b4ad4-d9d6-4e50-8712-2c8bf11c09cd"
      },
      "execution_count": 111,
      "outputs": [
        {
          "output_type": "stream",
          "name": "stderr",
          "text": [
            "WARNING:langchain_text_splitters.base:Created a chunk of size 1130, which is longer than the specified 1000\n"
          ]
        }
      ]
    },
    {
      "cell_type": "code",
      "source": [
        "query = \"TOPCIT 등록기간이 언제인가요?\"\n",
        "print(qa.run(query))"
      ],
      "metadata": {
        "colab": {
          "base_uri": "https://localhost:8080/"
        },
        "id": "i5cCljAJ_M6Y",
        "outputId": "259640f3-17e3-4c93-ef31-8dbe9a2b212f"
      },
      "execution_count": 112,
      "outputs": [
        {
          "output_type": "stream",
          "name": "stdout",
          "text": [
            "TOPCIT 등록기간은 2024년 9월 9일(월)부터 9월 12일(목)까지입니다.\n"
          ]
        }
      ]
    },
    {
      "cell_type": "code",
      "source": [
        "query = \"튜터 모집 기간은 어떻게 되나요?\"\n",
        "print(qa.run(query))"
      ],
      "metadata": {
        "colab": {
          "base_uri": "https://localhost:8080/"
        },
        "id": "HPnUAjWIayhp",
        "outputId": "c899cec0-2260-4d3a-9bd4-739bbcc5eed7"
      },
      "execution_count": 113,
      "outputs": [
        {
          "output_type": "stream",
          "name": "stdout",
          "text": [
            "튜터 모집 기간은 다음과 같습니다.\n",
            "\n",
            "1차~5차 신청: 2024. 9. 19.(목) 오전까지\n",
            "2차 모집: 2024. 9. 23.(월) 10시까지\n",
            "\n",
            "해당 기간 내에 구글 폼을 통해 신청하실 수 있습니다.\n"
          ]
        }
      ]
    }
  ]
}